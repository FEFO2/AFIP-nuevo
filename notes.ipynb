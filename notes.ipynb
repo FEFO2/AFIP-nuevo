{
 "cells": [
  {
   "cell_type": "code",
   "execution_count": 1,
   "id": "ae6a51d3",
   "metadata": {},
   "outputs": [],
   "source": [
    "import pandas as pd\n",
    "\n",
    "data = pd.read_excel(r'C:\\Users\\ThinkPad-PC\\Downloads\\TABLA TIPO COMPROBANTES V.0  25082010.xls')\n"
   ]
  },
  {
   "cell_type": "code",
   "execution_count": 2,
   "id": "c584073f",
   "metadata": {},
   "outputs": [
    {
     "data": {
      "text/html": [
       "<div>\n",
       "<style scoped>\n",
       "    .dataframe tbody tr th:only-of-type {\n",
       "        vertical-align: middle;\n",
       "    }\n",
       "\n",
       "    .dataframe tbody tr th {\n",
       "        vertical-align: top;\n",
       "    }\n",
       "\n",
       "    .dataframe thead th {\n",
       "        text-align: right;\n",
       "    }\n",
       "</style>\n",
       "<table border=\"1\" class=\"dataframe\">\n",
       "  <thead>\n",
       "    <tr style=\"text-align: right;\">\n",
       "      <th></th>\n",
       "      <th>Tipos de comprobantes</th>\n",
       "      <th>Unnamed: 1</th>\n",
       "    </tr>\n",
       "  </thead>\n",
       "  <tbody>\n",
       "    <tr>\n",
       "      <th>0</th>\n",
       "      <td>NaN</td>\n",
       "      <td>NaN</td>\n",
       "    </tr>\n",
       "    <tr>\n",
       "      <th>1</th>\n",
       "      <td>NaN</td>\n",
       "      <td>NaN</td>\n",
       "    </tr>\n",
       "    <tr>\n",
       "      <th>2</th>\n",
       "      <td>Código</td>\n",
       "      <td>Denominación</td>\n",
       "    </tr>\n",
       "    <tr>\n",
       "      <th>3</th>\n",
       "      <td>001</td>\n",
       "      <td>FACTURAS A</td>\n",
       "    </tr>\n",
       "    <tr>\n",
       "      <th>4</th>\n",
       "      <td>002</td>\n",
       "      <td>NOTAS DE DEBITO A</td>\n",
       "    </tr>\n",
       "    <tr>\n",
       "      <th>...</th>\n",
       "      <td>...</td>\n",
       "      <td>...</td>\n",
       "    </tr>\n",
       "    <tr>\n",
       "      <th>78</th>\n",
       "      <td>099</td>\n",
       "      <td>OTROS COMP  QUE NO CUMPLEN CON LA R G  3419 Y ...</td>\n",
       "    </tr>\n",
       "    <tr>\n",
       "      <th>79</th>\n",
       "      <td>101</td>\n",
       "      <td>AJUSTE ANUAL PROVENIENTE DE LA  D J  DEL IVA  ...</td>\n",
       "    </tr>\n",
       "    <tr>\n",
       "      <th>80</th>\n",
       "      <td>102</td>\n",
       "      <td>AJUSTE ANUAL PROVENIENTE DE LA  D J  DEL IVA  ...</td>\n",
       "    </tr>\n",
       "    <tr>\n",
       "      <th>81</th>\n",
       "      <td>103</td>\n",
       "      <td>NOTA DE ASIGNACION</td>\n",
       "    </tr>\n",
       "    <tr>\n",
       "      <th>82</th>\n",
       "      <td>104</td>\n",
       "      <td>NOTA DE CREDITO DE ASIGNACION</td>\n",
       "    </tr>\n",
       "  </tbody>\n",
       "</table>\n",
       "<p>83 rows × 2 columns</p>\n",
       "</div>"
      ],
      "text/plain": [
       "   Tipos de comprobantes                                         Unnamed: 1\n",
       "0                    NaN                                                NaN\n",
       "1                    NaN                                                NaN\n",
       "2                 Código                                       Denominación\n",
       "3                    001                                         FACTURAS A\n",
       "4                    002                                  NOTAS DE DEBITO A\n",
       "..                   ...                                                ...\n",
       "78                   099  OTROS COMP  QUE NO CUMPLEN CON LA R G  3419 Y ...\n",
       "79                   101  AJUSTE ANUAL PROVENIENTE DE LA  D J  DEL IVA  ...\n",
       "80                   102  AJUSTE ANUAL PROVENIENTE DE LA  D J  DEL IVA  ...\n",
       "81                   103                                 NOTA DE ASIGNACION\n",
       "82                   104                      NOTA DE CREDITO DE ASIGNACION\n",
       "\n",
       "[83 rows x 2 columns]"
      ]
     },
     "execution_count": 2,
     "metadata": {},
     "output_type": "execute_result"
    }
   ],
   "source": [
    "data"
   ]
  }
 ],
 "metadata": {
  "kernelspec": {
   "display_name": "Python 3",
   "language": "python",
   "name": "python3"
  },
  "language_info": {
   "codemirror_mode": {
    "name": "ipython",
    "version": 3
   },
   "file_extension": ".py",
   "mimetype": "text/x-python",
   "name": "python",
   "nbconvert_exporter": "python",
   "pygments_lexer": "ipython3",
   "version": "3.11.9"
  }
 },
 "nbformat": 4,
 "nbformat_minor": 5
}
